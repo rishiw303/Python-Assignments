{
 "cells": [
  {
   "cell_type": "markdown",
   "id": "ff979703",
   "metadata": {},
   "source": [
    "## Python Assignment 1\n",
    "\n",
    "### 1. In the below elements which of them are values or an expression? eg:- values can be integer or string and expressions will be mathematical operators."
   ]
  },
  {
   "cell_type": "code",
   "execution_count": null,
   "id": "5326eb0b",
   "metadata": {},
   "outputs": [],
   "source": [
    "1. * : Expression(Multiply)\n",
    "\n",
    "2. 'hello' : value(string)\n",
    "\n",
    "3. -87.8 : value(float)\n",
    "\n",
    "4. - : Expression(Subtract)\n",
    "    \n",
    "5. / : Expression(divide)\n",
    "    \n",
    "6. + : Expression(add)\n",
    "    \n",
    "7. 6 : value(Integer)\n",
    "\n"
   ]
  },
  {
   "cell_type": "markdown",
   "id": "b1e1f44b",
   "metadata": {},
   "source": [
    "### 2. What is the difference between string and variable?\n"
   ]
  },
  {
   "cell_type": "code",
   "execution_count": null,
   "id": "a9cf8e11",
   "metadata": {},
   "outputs": [],
   "source": [
    "A Variable is a store of information, and a String is a type of information you would store in a Variable.\n",
    "A String is usually words, enclosed with \"\" but it can be numbers also if it inclosed in ''.\n",
    "\n",
    "Eg:\n",
    "\n",
    "x =\"my_name_is_rishikesh\"\n",
    "\n",
    "x is the Variable and \"my_name_is_rishikesh\" is a string"
   ]
  },
  {
   "cell_type": "markdown",
   "id": "3bef8dde",
   "metadata": {},
   "source": [
    "### 3. Describe three different data types."
   ]
  },
  {
   "cell_type": "code",
   "execution_count": null,
   "id": "0511b3e4",
   "metadata": {},
   "outputs": [],
   "source": [
    "1. int - integer eg. 2,5,77\n",
    "\n",
    "2.float - eg. 5.7, 77.80, 0.45\n",
    "\n",
    "3.complex- 4j + 7\n",
    "\n",
    "4.str - 'RishikeshWakhare'\n",
    "\n",
    "5.list - [1,2,3,4,5]\n",
    "\n",
    "6.tuple - (1,2,3,4,5)\n",
    "\n",
    "7.set - {1,2,3,4,5}\n",
    "\n",
    "8.dict - {'a':'one','b':'two','c':'three'}\n",
    "\n",
    "9.bool - True, False, 0, 1, "
   ]
  },
  {
   "cell_type": "code",
   "execution_count": null,
   "id": "0acda903",
   "metadata": {},
   "outputs": [],
   "source": []
  },
  {
   "cell_type": "code",
   "execution_count": null,
   "id": "a742d754",
   "metadata": {},
   "outputs": [],
   "source": []
  },
  {
   "cell_type": "code",
   "execution_count": null,
   "id": "42768cea",
   "metadata": {},
   "outputs": [],
   "source": []
  },
  {
   "cell_type": "code",
   "execution_count": null,
   "id": "c7eb04aa",
   "metadata": {},
   "outputs": [],
   "source": []
  },
  {
   "cell_type": "code",
   "execution_count": null,
   "id": "9e7059c7",
   "metadata": {},
   "outputs": [],
   "source": []
  },
  {
   "cell_type": "code",
   "execution_count": null,
   "id": "306a26b8",
   "metadata": {},
   "outputs": [],
   "source": []
  },
  {
   "cell_type": "code",
   "execution_count": null,
   "id": "30c7ddfb",
   "metadata": {},
   "outputs": [],
   "source": []
  },
  {
   "cell_type": "code",
   "execution_count": null,
   "id": "93c8cf03",
   "metadata": {},
   "outputs": [],
   "source": []
  },
  {
   "cell_type": "code",
   "execution_count": null,
   "id": "11ab6198",
   "metadata": {},
   "outputs": [],
   "source": []
  },
  {
   "cell_type": "code",
   "execution_count": null,
   "id": "7d024076",
   "metadata": {},
   "outputs": [],
   "source": []
  },
  {
   "cell_type": "code",
   "execution_count": null,
   "id": "33f6887a",
   "metadata": {},
   "outputs": [],
   "source": []
  },
  {
   "cell_type": "code",
   "execution_count": null,
   "id": "e22014ef",
   "metadata": {},
   "outputs": [],
   "source": []
  },
  {
   "cell_type": "code",
   "execution_count": null,
   "id": "075c92b7",
   "metadata": {},
   "outputs": [],
   "source": []
  },
  {
   "cell_type": "code",
   "execution_count": null,
   "id": "5e4f1a31",
   "metadata": {},
   "outputs": [],
   "source": []
  },
  {
   "cell_type": "code",
   "execution_count": null,
   "id": "7a83843f",
   "metadata": {},
   "outputs": [],
   "source": []
  }
 ],
 "metadata": {
  "kernelspec": {
   "display_name": "Python 3",
   "language": "python",
   "name": "python3"
  },
  "language_info": {
   "codemirror_mode": {
    "name": "ipython",
    "version": 3
   },
   "file_extension": ".py",
   "mimetype": "text/x-python",
   "name": "python",
   "nbconvert_exporter": "python",
   "pygments_lexer": "ipython3",
   "version": "3.8.8"
  }
 },
 "nbformat": 4,
 "nbformat_minor": 5
}
