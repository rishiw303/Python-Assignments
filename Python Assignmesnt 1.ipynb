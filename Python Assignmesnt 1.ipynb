{
 "cells": [
  {
   "cell_type": "markdown",
   "id": "ae617121",
   "metadata": {},
   "source": [
    "## Python Assignment 1\n",
    "\n",
    "### 1. In the below elements which of them are values or an expression? eg:- values can be integer or string and expressions will be mathematical operators."
   ]
  },
  {
   "cell_type": "code",
   "execution_count": null,
   "id": "dc7a41e1",
   "metadata": {},
   "outputs": [],
   "source": [
    "1. * : Expression(Multiply)\n",
    "\n",
    "2. 'hello' : value(string)\n",
    "\n",
    "3. -87.8 : value(float)\n",
    "\n",
    "4. - : Expression(Subtract)\n",
    "    \n",
    "5. / : Expression(divide)\n",
    "    \n",
    "6. + : Expression(add)\n",
    "    \n",
    "7. 6 : value(Integer)\n",
    "\n"
   ]
  },
  {
   "cell_type": "markdown",
   "id": "7ed3b62e",
   "metadata": {},
   "source": [
    "### 2. What is the difference between string and variable?\n"
   ]
  },
  {
   "cell_type": "code",
   "execution_count": null,
   "id": "8065d83f",
   "metadata": {},
   "outputs": [],
   "source": [
    "A Variable is a store of information, and a String is a type of information you would store in a Variable.\n",
    "A String is usually words, enclosed with \"\" but it can be numbers also if it inclosed in ''.\n",
    "\n",
    "Eg:\n",
    "\n",
    "x =\"my_name_is_rishikesh\"\n",
    "\n",
    "x is the Variable and \"my_name_is_rishikesh\" is a string"
   ]
  },
  {
   "cell_type": "markdown",
   "id": "17c05988",
   "metadata": {},
   "source": [
    "### 3. Describe three different data types."
   ]
  },
  {
   "cell_type": "code",
   "execution_count": null,
   "id": "c06702a2",
   "metadata": {},
   "outputs": [],
   "source": [
    "1. int - integer eg. 2,5,77\n",
    "\n",
    "2.float - eg. 5.7, 77.80, 0.45\n",
    "\n",
    "3.complex- 4j + 7\n",
    "\n",
    "4.str - 'RishikeshWakhare'\n",
    "\n",
    "5.list - [1,2,3,4,5]\n",
    "\n",
    "6.tuple - (1,2,3,4,5)\n",
    "\n",
    "7.set - {1,2,3,4,5}\n",
    "\n",
    "8.dict - {'a':'one','b':'two','c':'three'}\n",
    "\n",
    "9.bool - True, False, 0, 1, "
   ]
  },
  {
   "cell_type": "markdown",
   "id": "18c8b155",
   "metadata": {},
   "source": [
    "### 4. What is an expression made up of? What do all expressions do?"
   ]
  },
  {
   "cell_type": "code",
   "execution_count": null,
   "id": "8a2987a7",
   "metadata": {},
   "outputs": [],
   "source": [
    "Expressions are mathematical operators like +, -, *, /, %. These expressions perform mathimatical operations like\n",
    "4 + 5 = 9\n",
    "4 % 3 = 1\n",
    "4 * 2 = 8"
   ]
  },
  {
   "cell_type": "markdown",
   "id": "ac5e2fed",
   "metadata": {},
   "source": [
    "### 5. This assignment statements, like spam = 10. What is the difference between an expression and a statement?"
   ]
  },
  {
   "cell_type": "code",
   "execution_count": null,
   "id": "2358ac7b",
   "metadata": {},
   "outputs": [],
   "source": [
    " An Expression always evaluates to a value. And, A statement does something,\n",
    "like creating a variable or displaying a value,\n",
    "it only does whatever the statement says.\n",
    "\n",
    "Expression performs some kind of operation to return value \n",
    "while statement is just assignment of the any value to a variable or a line of code that does not return value"
   ]
  },
  {
   "cell_type": "markdown",
   "id": "507dec7e",
   "metadata": {},
   "source": [
    "### 6. After running the following code, what does the variable bacon contain?\n",
    "bacon = 22\n",
    "bacon + 1"
   ]
  },
  {
   "cell_type": "code",
   "execution_count": 2,
   "id": "8a5ff330",
   "metadata": {},
   "outputs": [
    {
     "data": {
      "text/plain": [
       "23"
      ]
     },
     "execution_count": 2,
     "metadata": {},
     "output_type": "execute_result"
    }
   ],
   "source": [
    "bacon = 22\n",
    "bacon + 1"
   ]
  },
  {
   "cell_type": "code",
   "execution_count": null,
   "id": "7b924ddd",
   "metadata": {},
   "outputs": [],
   "source": [
    "As the result shows bacon variable contains value 23"
   ]
  },
  {
   "cell_type": "markdown",
   "id": "d0b97d8d",
   "metadata": {},
   "source": [
    "### 7. What should the values of the following two terms be?\n"
   ]
  },
  {
   "cell_type": "code",
   "execution_count": 3,
   "id": "a3c0379c",
   "metadata": {},
   "outputs": [
    {
     "data": {
      "text/plain": [
       "'spamspamspam'"
      ]
     },
     "execution_count": 3,
     "metadata": {},
     "output_type": "execute_result"
    }
   ],
   "source": [
    "'spam'+'spamspam'"
   ]
  },
  {
   "cell_type": "code",
   "execution_count": 4,
   "id": "2de6c266",
   "metadata": {},
   "outputs": [
    {
     "data": {
      "text/plain": [
       "'spamspamspam'"
      ]
     },
     "execution_count": 4,
     "metadata": {},
     "output_type": "execute_result"
    }
   ],
   "source": [
    "'spam'*3"
   ]
  },
  {
   "cell_type": "markdown",
   "id": "c4b6bf63",
   "metadata": {},
   "source": [
    "### 8. Why is eggs a valid variable name while 100 is invalid?"
   ]
  },
  {
   "cell_type": "code",
   "execution_count": null,
   "id": "720416cd",
   "metadata": {},
   "outputs": [],
   "source": [
    "100 is a numerical value. It cannot be a variable beacause we can not assign another value to a numerical."
   ]
  },
  {
   "cell_type": "markdown",
   "id": "f3730f7d",
   "metadata": {},
   "source": [
    "### 9. What three functions can be used to get the integer, floating-point number, or string version of a value?"
   ]
  },
  {
   "cell_type": "code",
   "execution_count": null,
   "id": "23e717fa",
   "metadata": {},
   "outputs": [],
   "source": [
    "For integer - int()\n",
    "For flaot-point nummber - float()\n",
    "For sritng value - str()"
   ]
  },
  {
   "cell_type": "markdown",
   "id": "a4cd2756",
   "metadata": {},
   "source": [
    "### 10. Why does this expression cause an error? How can you fix it?"
   ]
  },
  {
   "cell_type": "code",
   "execution_count": 5,
   "id": "7bd4df92",
   "metadata": {},
   "outputs": [
    {
     "ename": "TypeError",
     "evalue": "can only concatenate str (not \"int\") to str",
     "output_type": "error",
     "traceback": [
      "\u001b[0;31m---------------------------------------------------------------------------\u001b[0m",
      "\u001b[0;31mTypeError\u001b[0m                                 Traceback (most recent call last)",
      "\u001b[0;32m<ipython-input-5-127e03e8726c>\u001b[0m in \u001b[0;36m<module>\u001b[0;34m\u001b[0m\n\u001b[0;32m----> 1\u001b[0;31m \u001b[0;34m'I have eaten'\u001b[0m\u001b[0;34m+\u001b[0m\u001b[0;36m99\u001b[0m\u001b[0;34m+\u001b[0m\u001b[0;34m'burritos'\u001b[0m\u001b[0;34m\u001b[0m\u001b[0;34m\u001b[0m\u001b[0m\n\u001b[0m",
      "\u001b[0;31mTypeError\u001b[0m: can only concatenate str (not \"int\") to str"
     ]
    }
   ],
   "source": [
    "'I have eaten'+99+'burritos'"
   ]
  },
  {
   "cell_type": "code",
   "execution_count": null,
   "id": "8198ebfa",
   "metadata": {},
   "outputs": [],
   "source": [
    "Here 99 is an integer which we cannot add to other values which are string type.\n",
    "To perform this operation we first have to convert 99 to string and then perform this operation."
   ]
  },
  {
   "cell_type": "code",
   "execution_count": 7,
   "id": "2f689886",
   "metadata": {},
   "outputs": [
    {
     "data": {
      "text/plain": [
       "'I have eaten 99 burritos'"
      ]
     },
     "execution_count": 7,
     "metadata": {},
     "output_type": "execute_result"
    }
   ],
   "source": [
    "'I have eaten '+str(99)+' burritos'"
   ]
  },
  {
   "cell_type": "code",
   "execution_count": null,
   "id": "f66efa03",
   "metadata": {},
   "outputs": [],
   "source": [
    "\n"
   ]
  }
 ],
 "metadata": {
  "kernelspec": {
   "display_name": "Python 3",
   "language": "python",
   "name": "python3"
  },
  "language_info": {
   "codemirror_mode": {
    "name": "ipython",
    "version": 3
   },
   "file_extension": ".py",
   "mimetype": "text/x-python",
   "name": "python",
   "nbconvert_exporter": "python",
   "pygments_lexer": "ipython3",
   "version": "3.8.8"
  }
 },
 "nbformat": 4,
 "nbformat_minor": 5
}
